{
 "cells": [
  {
   "cell_type": "code",
   "execution_count": 1,
   "id": "3c72cdae",
   "metadata": {},
   "outputs": [],
   "source": [
    "import os\n",
    "import numpy as np\n",
    "from PIL import Image\n",
    "import tensorflow\n",
    "import tensorflow.compat.v1 as tf\n",
    "from tensorflow.keras import utils as np_utils\n",
    "from tensorflow.keras import backend as K\n",
    "from tensorflow.keras.models import Sequential, load_model\n",
    "from tensorflow.keras.layers import Dense, Activation, Convolution2D,MaxPooling2D,Flatten,Dropout,Dense\n",
    "from tensorflow.keras.optimizers import Adam\n",
    "from tensorflow.keras.utils import to_categorical\n",
    "from tensorflow.keras.losses import categorical_crossentropy\n",
    "from torchvision import datasets\n",
    "import matplotlib.pyplot as plt\n",
    "from matplotlib.figure import Figure\n",
    "from matplotlib.axes import Axes\n",
    "import random\n",
    "import math\n",
    "from keras.preprocessing import image"
   ]
  },
  {
   "cell_type": "code",
   "execution_count": null,
   "id": "41ab2740",
   "metadata": {},
   "outputs": [],
   "source": [
    "#Extracting files\n",
    "#input file address\n",
    "id1 = input(\"Please enter the address where the MNIST file is stored. If you have not downloaded the file, please enter any folder name, and MNIST will be downloaded automatically:\")\n",
    "id2 = input(\"Please enter the name of the folder where the pictures are stored, the folder is stored in the same level directory of this file by default:\")\n",
    "\n",
    "# Determine whether the input file address exists, if not, it will be created\n",
    "if not os.path.exists(id1):\n",
    "    os.makedirs(id1)\n",
    "\n",
    "#Take out the total data of the training set and the test set. The data taken out here is expressed in the form of [tuple in the list], that is, the combination of pictures and labels\n",
    "traindata = [i for i in datasets.MNIST(root=\"{}/\".format(id1),train=True,download=True)]\n",
    "testdata = [i for i in datasets.MNIST(root=\"{}/\".format(id1),train=False,download=True)]\n",
    "\n",
    "# Loop through pictures of numbers 0 to 9\n",
    "for x in range(10):\n",
    "\n",
    "\t# The pictures in the tuple are taken out according to the number of cycles and stored in the list (here i is the picture, j is the label)\n",
    "    data1,data2 = [ i for i,j in testdata if j == x ],[ i for i,j in traindata if j == x ]  \n",
    "    # define storage path\n",
    "    path1,path2 = \"{0}/test_image_{1}\".format(id2,x),\"{0}/train_image_{1}\".format(id2,x)  \n",
    "\n",
    "    print(\"Saving [test set] and [training set] digital [{0}] pictures, each with {3}; {4}, stored in {1}; {2}\"\n",
    "            .format(x,path1,path2,len(data1),len(data2)))  # Here are stored separately: label number, path, number of elements\n",
    "    if not os.path.exists(path1):  # Determine if a folder needs to be created, skip it if it exists\n",
    "        os.makedirs(path1)\n",
    "    if not os.path.exists(path2):\n",
    "        os.makedirs(path2)\n",
    "    for i, j in enumerate(data1):  # Store test set pictures: Iterate out all the pictures taken out and store them in the folder according to the corresponding index\n",
    "        data1[i].save(path1+\"\\{}.png\".format(i))\n",
    "    for i, j in enumerate(data2):  # Save training set images\n",
    "        data2[i].save(path2+\"\\{}.png\".format(i))\n",
    "\n",
    "print(\"After saving, a total of {} pictures are stored, thank you for using!\".format(len(traindata)+len(testdata)))"
   ]
  },
  {
   "cell_type": "code",
   "execution_count": 2,
   "id": "96d6c54c",
   "metadata": {},
   "outputs": [],
   "source": [
    "model = Sequential()\n",
    "model.add(Convolution2D(32, (5,5), activation='relu', input_shape=[28, 28, 1]))\n",
    "model.add(Convolution2D(64, (5,5), activation='relu'))\n",
    "model.add(MaxPooling2D(pool_size=(2,2)))\n",
    "model.add(Flatten())\n",
    "model.add(Dropout(0.5))\n",
    "model.add(Dense(128, activation='relu'))\n",
    "model.add(Dropout(0.5))\n",
    "model.add(Dense(10, activation='softmax'))\n",
    "\n",
    "model.compile(loss=categorical_crossentropy,\n",
    "             optimizer=Adam(lr=0.0001),\n",
    "             metrics=['accuracy'])"
   ]
  },
  {
   "cell_type": "code",
   "execution_count": 3,
   "id": "3bb16552",
   "metadata": {},
   "outputs": [],
   "source": [
    "def load_data():\n",
    "    #Training data is stored in data\n",
    "\n",
    "    imgs=os.listdir('C:/Users/kingm/Desktop/save/train_data/')\n",
    "    num=len(imgs)\n",
    "    data=np.empty((num,1,28,28),dtype=\"float32\")\n",
    "    label=np.empty((num,),dtype=\"uint8\")\n",
    "    for i in range(num):\n",
    "        img = Image.open('C:/Users/kingm/Desktop/save/train_data/'+imgs[i])\n",
    "        arr = np.asarray (img, dtype=\"float32\" )\n",
    "        data[i,:,:,:] = arr\n",
    "        label[i] = int(imgs[i].split('.')[0]) #Get the label of this image\n",
    "    \n",
    "    #The validation set data is stored in test.data\n",
    "    imgs_test=os.listdir('C:/Users/kingm/Desktop/save/test_data/')\n",
    "    num_test=len(imgs_test)\n",
    "    test_data=np.empty((num_test, 1, 28, 28), dtype='float32' )\n",
    "    test_label=np.empty((num_test,),dtype='uint8' )\n",
    "    for i in range(num_test):\n",
    "        img = Image.open('C:/Users/kingm/Desktop/save/test_data/'+imgs_test[i])\n",
    "        arr = np.asarray(img, dtype='float32' )\n",
    "        test_data[i,:,:,:] = arr\n",
    "        test_label[i] = int(imgs_test[i]. split('.')[0])\n",
    "        \n",
    "    return data,label,test_data,test_label\n",
    "                                                "
   ]
  },
  {
   "cell_type": "code",
   "execution_count": 4,
   "id": "c6f364c3",
   "metadata": {},
   "outputs": [
    {
     "name": "stdout",
     "output_type": "stream",
     "text": [
      "12188 samples\n"
     ]
    }
   ],
   "source": [
    "#Download Data\n",
    "data,label,test_data,test_label=load_data()\n",
    "print(data.shape[0],'samples')\n",
    "\n",
    "\n",
    "label=np_utils.to_categorical(label,10)\n",
    "test_label=np_utils.to_categorical(test_label,10)\n",
    "\n",
    "if K.image_data_format() == 'channel_first':\n",
    "    data=data.reshape(data.shape[0],1,28,28)\n",
    "    test_data=test_data.reshape(test_data.shape[0],1,28,28)\n",
    "    input_shape=(1,28,28)\n",
    "else:\n",
    "    data=data.reshape(data.shape[0],28,28,1)\n",
    "    test_data=test_data.reshape(test_data.shape[0],28,28,1)\n",
    "    input_shape=(28,28,1)\n",
    "K.set_image_data_format('channels_first')"
   ]
  },
  {
   "cell_type": "code",
   "execution_count": 5,
   "id": "aa409a22",
   "metadata": {},
   "outputs": [
    {
     "name": "stdout",
     "output_type": "stream",
     "text": [
      "Epoch 1/10\n",
      "122/122 [==============================] - 11s 89ms/step - loss: 3.1702 - accuracy: 0.9276 - val_loss: 0.0679 - val_accuracy: 0.9955\n",
      "Epoch 2/10\n",
      "122/122 [==============================] - 11s 88ms/step - loss: 0.1926 - accuracy: 0.9865 - val_loss: 0.0389 - val_accuracy: 0.9965\n",
      "Epoch 3/10\n",
      "122/122 [==============================] - 11s 91ms/step - loss: 0.1186 - accuracy: 0.9902 - val_loss: 0.0316 - val_accuracy: 0.9970\n",
      "Epoch 4/10\n",
      "122/122 [==============================] - 11s 93ms/step - loss: 0.0758 - accuracy: 0.9929 - val_loss: 0.0371 - val_accuracy: 0.9980\n",
      "Epoch 5/10\n",
      "122/122 [==============================] - 11s 92ms/step - loss: 0.0549 - accuracy: 0.9944 - val_loss: 0.0320 - val_accuracy: 0.9980\n",
      "Epoch 6/10\n",
      "122/122 [==============================] - 11s 91ms/step - loss: 0.0463 - accuracy: 0.9948 - val_loss: 0.0240 - val_accuracy: 0.9985\n",
      "Epoch 7/10\n",
      "122/122 [==============================] - 11s 89ms/step - loss: 0.0367 - accuracy: 0.9962 - val_loss: 0.0285 - val_accuracy: 0.9980\n",
      "Epoch 8/10\n",
      "122/122 [==============================] - 11s 89ms/step - loss: 0.0319 - accuracy: 0.9957 - val_loss: 0.0158 - val_accuracy: 0.9990\n",
      "Epoch 9/10\n",
      "122/122 [==============================] - 11s 89ms/step - loss: 0.0187 - accuracy: 0.9964 - val_loss: 0.0125 - val_accuracy: 0.9990\n",
      "Epoch 10/10\n",
      "122/122 [==============================] - 11s 91ms/step - loss: 0.0225 - accuracy: 0.9963 - val_loss: 0.0126 - val_accuracy: 0.9990\n",
      "63/63 [==============================] - 0s 7ms/step - loss: 0.0126 - accuracy: 0.9990\n",
      "score [0.012550437822937965, 0.9990040063858032]\n",
      "Test Socre: 0.012550437822937965\n",
      "Test Accuracy: 0.9990040063858032\n"
     ]
    }
   ],
   "source": [
    "history=model.fit(data,label,batch_size=100,epochs=10,shuffle=True,verbose=1,validation_data=(test_data,test_label))\n",
    "\n",
    "\n",
    "#Evaluation model\n",
    "score=model.evaluate(test_data,test_label,verbose=1)\n",
    "print('score',score)\n",
    "print('Test Socre:',score[0])\n",
    "print('Test Accuracy:',score[1])\n",
    "model.save('mnist-mpl.h5')\n",
    "K.clear_session()"
   ]
  },
  {
   "cell_type": "code",
   "execution_count": 6,
   "id": "fe5d6c5e",
   "metadata": {
    "scrolled": true
   },
   "outputs": [
    {
     "data": {
      "image/png": "[encoded data removed]",
      "text/plain": [
       "<Figure size 432x288 with 1 Axes>"
      ]
     },
     "metadata": {
      "needs_background": "light"
     },
     "output_type": "display_data"
    },
    {
     "data": {
      "image/png": "[encoded data removed]",
      "text/plain": [
       "<Figure size 432x288 with 1 Axes>"
      ]
     },
     "metadata": {
      "needs_background": "light"
     },
     "output_type": "display_data"
    }
   ],
   "source": [
    "plt.plot(history.history['accuracy'], label='Accuracy')\n",
    "plt.plot(history.history['val_accuracy'], label='Validation accuracy')\n",
    "plt.xlabel('Epoch')\n",
    "plt.ylabel('Accuracy')\n",
    "plt.ylim([0.75, 1])\n",
    "plt.legend(loc='lower right')\n",
    "plt.show()\n",
    "\n",
    "plt.plot(history.history['loss'], label='Loss')\n",
    "plt.plot(history.history['val_loss'], label='Validation loss')\n",
    "plt.xlabel('Epoch')\n",
    "plt.ylabel('loss')\n",
    "plt.ylim([0, 1])\n",
    "plt.legend(loc='upper right')\n",
    "plt.show()"
   ]
  },
  {
   "cell_type": "code",
   "execution_count": 7,
   "id": "c9774424",
   "metadata": {},
   "outputs": [
    {
     "name": "stdout",
     "output_type": "stream",
     "text": [
      "Model: \"sequential\"\n",
      "_________________________________________________________________\n",
      "Layer (type)                 Output Shape              Param #   \n",
      "=================================================================\n",
      "conv2d (Conv2D)              (None, 24, 24, 32)        832       \n",
      "_________________________________________________________________\n",
      "conv2d_1 (Conv2D)            (None, 20, 20, 64)        51264     \n",
      "_________________________________________________________________\n",
      "max_pooling2d (MaxPooling2D) (None, 10, 10, 64)        0         \n",
      "_________________________________________________________________\n",
      "flatten (Flatten)            (None, 6400)              0         \n",
      "_________________________________________________________________\n",
      "dropout (Dropout)            (None, 6400)              0         \n",
      "_________________________________________________________________\n",
      "dense (Dense)                (None, 128)               819328    \n",
      "_________________________________________________________________\n",
      "dropout_1 (Dropout)          (None, 128)               0         \n",
      "_________________________________________________________________\n",
      "dense_1 (Dense)              (None, 10)                1290      \n",
      "=================================================================\n",
      "Total params: 872,714\n",
      "Trainable params: 872,714\n",
      "Non-trainable params: 0\n",
      "_________________________________________________________________\n"
     ]
    }
   ],
   "source": [
    "model.summary()"
   ]
  },
  {
   "cell_type": "code",
   "execution_count": 8,
   "id": "32e92e4d",
   "metadata": {},
   "outputs": [
    {
     "name": "stdout",
     "output_type": "stream",
     "text": [
      "warning, language ps not recognized, use one of:\r\n",
      " dot canon plain plain-ext\r\n",
      "\n"
     ]
    },
    {
     "ename": "ValueError",
     "evalue": "Cannot embed the 'dot' image format",
     "output_type": "error",
     "traceback": [
      "\u001b[1;31m---------------------------------------------------------------------------\u001b[0m",
      "\u001b[1;31mValueError\u001b[0m                                Traceback (most recent call last)",
      "\u001b[1;32m<ipython-input-8-5589f3675f50>\u001b[0m in \u001b[0;36m<module>\u001b[1;34m\u001b[0m\n\u001b[0;32m      1\u001b[0m \u001b[1;32mfrom\u001b[0m \u001b[0mtensorflow\u001b[0m\u001b[1;33m.\u001b[0m\u001b[0mpython\u001b[0m\u001b[1;33m.\u001b[0m\u001b[0mkeras\u001b[0m\u001b[1;33m.\u001b[0m\u001b[0mutils\u001b[0m\u001b[1;33m.\u001b[0m\u001b[0mvis_utils\u001b[0m \u001b[1;32mimport\u001b[0m \u001b[0mplot_model\u001b[0m\u001b[1;33m\u001b[0m\u001b[1;33m\u001b[0m\u001b[0m\n\u001b[1;32m----> 2\u001b[1;33m \u001b[0mplot_model\u001b[0m\u001b[1;33m(\u001b[0m\u001b[0mmodel\u001b[0m\u001b[1;33m,\u001b[0m\u001b[0mto_file\u001b[0m\u001b[1;33m=\u001b[0m\u001b[1;34m'modelunet.dot'\u001b[0m\u001b[1;33m,\u001b[0m\u001b[0mshow_shapes\u001b[0m\u001b[1;33m=\u001b[0m\u001b[1;32mTrue\u001b[0m\u001b[1;33m)\u001b[0m\u001b[1;33m\u001b[0m\u001b[1;33m\u001b[0m\u001b[0m\n\u001b[0m",
      "\u001b[1;32m~\\anaconda3\\lib\\site-packages\\tensorflow\\python\\keras\\utils\\vis_utils.py\u001b[0m in \u001b[0;36mplot_model\u001b[1;34m(model, to_file, show_shapes, show_layer_names, rankdir, expand_nested, dpi)\u001b[0m\n\u001b[0;32m    321\u001b[0m     \u001b[1;32mtry\u001b[0m\u001b[1;33m:\u001b[0m\u001b[1;33m\u001b[0m\u001b[1;33m\u001b[0m\u001b[0m\n\u001b[0;32m    322\u001b[0m       \u001b[1;32mfrom\u001b[0m \u001b[0mIPython\u001b[0m \u001b[1;32mimport\u001b[0m \u001b[0mdisplay\u001b[0m\u001b[1;33m\u001b[0m\u001b[1;33m\u001b[0m\u001b[0m\n\u001b[1;32m--> 323\u001b[1;33m       \u001b[1;32mreturn\u001b[0m \u001b[0mdisplay\u001b[0m\u001b[1;33m.\u001b[0m\u001b[0mImage\u001b[0m\u001b[1;33m(\u001b[0m\u001b[0mfilename\u001b[0m\u001b[1;33m=\u001b[0m\u001b[0mto_file\u001b[0m\u001b[1;33m)\u001b[0m\u001b[1;33m\u001b[0m\u001b[1;33m\u001b[0m\u001b[0m\n\u001b[0m\u001b[0;32m    324\u001b[0m     \u001b[1;32mexcept\u001b[0m \u001b[0mImportError\u001b[0m\u001b[1;33m:\u001b[0m\u001b[1;33m\u001b[0m\u001b[1;33m\u001b[0m\u001b[0m\n\u001b[0;32m    325\u001b[0m       \u001b[1;32mpass\u001b[0m\u001b[1;33m\u001b[0m\u001b[1;33m\u001b[0m\u001b[0m\n",
      "\u001b[1;32m~\\anaconda3\\lib\\site-packages\\IPython\\core\\display.py\u001b[0m in \u001b[0;36m__init__\u001b[1;34m(self, data, url, filename, format, embed, width, height, retina, unconfined, metadata)\u001b[0m\n\u001b[0;32m   1214\u001b[0m \u001b[1;33m\u001b[0m\u001b[0m\n\u001b[0;32m   1215\u001b[0m         \u001b[1;32mif\u001b[0m \u001b[0mself\u001b[0m\u001b[1;33m.\u001b[0m\u001b[0membed\u001b[0m \u001b[1;32mand\u001b[0m \u001b[0mself\u001b[0m\u001b[1;33m.\u001b[0m\u001b[0mformat\u001b[0m \u001b[1;32mnot\u001b[0m \u001b[1;32min\u001b[0m \u001b[0mself\u001b[0m\u001b[1;33m.\u001b[0m\u001b[0m_ACCEPTABLE_EMBEDDINGS\u001b[0m\u001b[1;33m:\u001b[0m\u001b[1;33m\u001b[0m\u001b[1;33m\u001b[0m\u001b[0m\n\u001b[1;32m-> 1216\u001b[1;33m             \u001b[1;32mraise\u001b[0m \u001b[0mValueError\u001b[0m\u001b[1;33m(\u001b[0m\u001b[1;34m\"Cannot embed the '%s' image format\"\u001b[0m \u001b[1;33m%\u001b[0m \u001b[1;33m(\u001b[0m\u001b[0mself\u001b[0m\u001b[1;33m.\u001b[0m\u001b[0mformat\u001b[0m\u001b[1;33m)\u001b[0m\u001b[1;33m)\u001b[0m\u001b[1;33m\u001b[0m\u001b[1;33m\u001b[0m\u001b[0m\n\u001b[0m\u001b[0;32m   1217\u001b[0m         \u001b[1;32mif\u001b[0m \u001b[0mself\u001b[0m\u001b[1;33m.\u001b[0m\u001b[0membed\u001b[0m\u001b[1;33m:\u001b[0m\u001b[1;33m\u001b[0m\u001b[1;33m\u001b[0m\u001b[0m\n\u001b[0;32m   1218\u001b[0m             \u001b[0mself\u001b[0m\u001b[1;33m.\u001b[0m\u001b[0m_mimetype\u001b[0m \u001b[1;33m=\u001b[0m \u001b[0mself\u001b[0m\u001b[1;33m.\u001b[0m\u001b[0m_MIMETYPES\u001b[0m\u001b[1;33m.\u001b[0m\u001b[0mget\u001b[0m\u001b[1;33m(\u001b[0m\u001b[0mself\u001b[0m\u001b[1;33m.\u001b[0m\u001b[0mformat\u001b[0m\u001b[1;33m)\u001b[0m\u001b[1;33m\u001b[0m\u001b[1;33m\u001b[0m\u001b[0m\n",
      "\u001b[1;31mValueError\u001b[0m: Cannot embed the 'dot' image format"
     ]
    }
   ],
   "source": [
    "from tensorflow.python.keras.utils.vis_utils import plot_model\n",
    "plot_model(model,to_file='modelunet.dot',show_shapes=True)"
   ]
  },
  {
   "cell_type": "code",
   "execution_count": null,
   "id": "585b0efe",
   "metadata": {},
   "outputs": [],
   "source": []
  }
 ],
 "metadata": {
  "kernelspec": {
   "display_name": "Python 3",
   "language": "python",
   "name": "python3"
  },
  "language_info": {
   "codemirror_mode": {
    "name": "ipython",
    "version": 3
   },
   "file_extension": ".py",
   "mimetype": "text/x-python",
   "name": "python",
   "nbconvert_exporter": "python",
   "pygments_lexer": "ipython3",
   "version": "3.8.8"
  }
 },
 "nbformat": 4,
 "nbformat_minor": 5
}
